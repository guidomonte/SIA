{
 "cells": [
  {
   "cell_type": "code",
   "execution_count": 2,
   "id": "ca3cb712-94c2-4b3e-942f-5ef5cc1c0fb2",
   "metadata": {},
   "outputs": [],
   "source": [
    "import pandas as pd"
   ]
  },
  {
   "cell_type": "code",
   "execution_count": 3,
   "id": "66fb2afd-3d00-40b7-99f9-7c6c6233d5e4",
   "metadata": {},
   "outputs": [],
   "source": [
    "dataset = pd.read_excel('SIA_DM .xlsm')"
   ]
  },
  {
   "cell_type": "code",
   "execution_count": 4,
   "id": "329b1f03-e8d7-493b-b7a4-a983e95a0a64",
   "metadata": {},
   "outputs": [
    {
     "data": {
      "text/html": [
       "<div>\n",
       "<style scoped>\n",
       "    .dataframe tbody tr th:only-of-type {\n",
       "        vertical-align: middle;\n",
       "    }\n",
       "\n",
       "    .dataframe tbody tr th {\n",
       "        vertical-align: top;\n",
       "    }\n",
       "\n",
       "    .dataframe thead th {\n",
       "        text-align: right;\n",
       "    }\n",
       "</style>\n",
       "<table border=\"1\" class=\"dataframe\">\n",
       "  <thead>\n",
       "    <tr style=\"text-align: right;\">\n",
       "      <th></th>\n",
       "      <th>Customer</th>\n",
       "      <th>SSN</th>\n",
       "      <th>Birthdate</th>\n",
       "      <th>Age</th>\n",
       "      <th>Region</th>\n",
       "      <th>CredCardUser</th>\n",
       "      <th>Income</th>\n",
       "      <th>Purchases</th>\n",
       "      <th>AmtSpent</th>\n",
       "    </tr>\n",
       "  </thead>\n",
       "  <tbody>\n",
       "    <tr>\n",
       "      <th>0</th>\n",
       "      <td>1</td>\n",
       "      <td>539-84-9599</td>\n",
       "      <td>1944-10-26</td>\n",
       "      <td>77</td>\n",
       "      <td>East</td>\n",
       "      <td>0</td>\n",
       "      <td>62900</td>\n",
       "      <td>4</td>\n",
       "      <td>2080</td>\n",
       "    </tr>\n",
       "    <tr>\n",
       "      <th>1</th>\n",
       "      <td>2</td>\n",
       "      <td>444-05-4079</td>\n",
       "      <td>1932-01-01</td>\n",
       "      <td>67</td>\n",
       "      <td>West</td>\n",
       "      <td>1</td>\n",
       "      <td>23300</td>\n",
       "      <td>0</td>\n",
       "      <td>0</td>\n",
       "    </tr>\n",
       "    <tr>\n",
       "      <th>2</th>\n",
       "      <td>3</td>\n",
       "      <td>418-18-5649</td>\n",
       "      <td>1973-08-17</td>\n",
       "      <td>25</td>\n",
       "      <td>East</td>\n",
       "      <td>1</td>\n",
       "      <td>48700</td>\n",
       "      <td>8</td>\n",
       "      <td>3990</td>\n",
       "    </tr>\n",
       "    <tr>\n",
       "      <th>3</th>\n",
       "      <td>4</td>\n",
       "      <td>065-63-3311</td>\n",
       "      <td>1947-08-02</td>\n",
       "      <td>51</td>\n",
       "      <td>West</td>\n",
       "      <td>1</td>\n",
       "      <td>137600</td>\n",
       "      <td>2</td>\n",
       "      <td>920</td>\n",
       "    </tr>\n",
       "    <tr>\n",
       "      <th>4</th>\n",
       "      <td>5</td>\n",
       "      <td>059-58-9566</td>\n",
       "      <td>1948-10-03</td>\n",
       "      <td>50</td>\n",
       "      <td>East</td>\n",
       "      <td>0</td>\n",
       "      <td>101400</td>\n",
       "      <td>2</td>\n",
       "      <td>1000</td>\n",
       "    </tr>\n",
       "  </tbody>\n",
       "</table>\n",
       "</div>"
      ],
      "text/plain": [
       "   Customer          SSN  Birthdate  Age Region  CredCardUser  Income  \\\n",
       "0         1  539-84-9599 1944-10-26   77   East             0   62900   \n",
       "1         2  444-05-4079 1932-01-01   67   West             1   23300   \n",
       "2         3  418-18-5649 1973-08-17   25   East             1   48700   \n",
       "3         4  065-63-3311 1947-08-02   51   West             1  137600   \n",
       "4         5  059-58-9566 1948-10-03   50   East             0  101400   \n",
       "\n",
       "   Purchases  AmtSpent  \n",
       "0          4      2080  \n",
       "1          0         0  \n",
       "2          8      3990  \n",
       "3          2       920  \n",
       "4          2      1000  "
      ]
     },
     "execution_count": 4,
     "metadata": {},
     "output_type": "execute_result"
    }
   ],
   "source": [
    "dataset.head()"
   ]
  },
  {
   "cell_type": "code",
   "execution_count": 5,
   "id": "24aa8e5b",
   "metadata": {},
   "outputs": [
    {
     "data": {
      "text/plain": [
       "(1500, 9)"
      ]
     },
     "execution_count": 5,
     "metadata": {},
     "output_type": "execute_result"
    }
   ],
   "source": [
    "dataset.shape"
   ]
  },
  {
   "cell_type": "code",
   "execution_count": 6,
   "id": "172d8d15",
   "metadata": {},
   "outputs": [
    {
     "name": "stdout",
     "output_type": "stream",
     "text": [
      "['Customer' 'Age' 'CredCardUser' 'Income' 'Purchases' 'AmtSpent']\n"
     ]
    }
   ],
   "source": [
    "import numpy as np\n",
    "# select numeric columns\n",
    "df_numeric = dataset.select_dtypes(include=[np.number])\n",
    "numeric_cols = df_numeric.columns.values\n",
    "print(numeric_cols)"
   ]
  },
  {
   "cell_type": "code",
   "execution_count": 7,
   "id": "0cae0837",
   "metadata": {},
   "outputs": [
    {
     "name": "stdout",
     "output_type": "stream",
     "text": [
      "['SSN' 'Birthdate' 'Region']\n"
     ]
    }
   ],
   "source": [
    "# select non numeric columns\n",
    "df_non_numeric = dataset.select_dtypes(exclude=[np.number])\n",
    "non_numeric_cols = df_non_numeric.columns.values\n",
    "print(non_numeric_cols)"
   ]
  },
  {
   "cell_type": "code",
   "execution_count": 9,
   "id": "89796416",
   "metadata": {},
   "outputs": [
    {
     "data": {
      "text/plain": [
       "(1498, 9)"
      ]
     },
     "execution_count": 9,
     "metadata": {},
     "output_type": "execute_result"
    }
   ],
   "source": [
    "df = dataset.drop_duplicates(subset=[\"SSN\"], keep='first')\n",
    "df.shape"
   ]
  },
  {
   "cell_type": "code",
   "execution_count": 10,
   "id": "cf6b53dc",
   "metadata": {},
   "outputs": [
    {
     "name": "stderr",
     "output_type": "stream",
     "text": [
      "C:\\Users\\guido\\AppData\\Local\\Temp\\ipykernel_16684\\3099948170.py:1: SettingWithCopyWarning: \n",
      "A value is trying to be set on a copy of a slice from a DataFrame.\n",
      "Try using .loc[row_indexer,col_indexer] = value instead\n",
      "\n",
      "See the caveats in the documentation: https://pandas.pydata.org/pandas-docs/stable/user_guide/indexing.html#returning-a-view-versus-a-copy\n",
      "  df['Birthdate']= pd.to_datetime(df['Birthdate'], infer_datetime_format=True)\n"
     ]
    },
    {
     "data": {
      "text/plain": [
       "0      1944-10-26\n",
       "1      1932-01-01\n",
       "2      1973-08-17\n",
       "3      1947-08-02\n",
       "4      1948-10-03\n",
       "          ...    \n",
       "1495   1965-09-28\n",
       "1496   1930-07-31\n",
       "1497   1954-07-21\n",
       "1498   1966-10-30\n",
       "1499   1934-09-23\n",
       "Name: Birthdate, Length: 1498, dtype: datetime64[ns]"
      ]
     },
     "execution_count": 10,
     "metadata": {},
     "output_type": "execute_result"
    }
   ],
   "source": [
    "df['Birthdate']= pd.to_datetime(df['Birthdate'], infer_datetime_format=True)\n",
    "df['Birthdate']"
   ]
  },
  {
   "cell_type": "code",
   "execution_count": 11,
   "id": "d1e47709",
   "metadata": {},
   "outputs": [
    {
     "name": "stdout",
     "output_type": "stream",
     "text": [
      "(1486, 9)\n"
     ]
    },
    {
     "name": "stderr",
     "output_type": "stream",
     "text": [
      "C:\\Users\\guido\\AppData\\Local\\Temp\\ipykernel_16684\\823139045.py:3: SettingWithCopyWarning: \n",
      "A value is trying to be set on a copy of a slice from a DataFrame.\n",
      "Try using .loc[row_indexer,col_indexer] = value instead\n",
      "\n",
      "See the caveats in the documentation: https://pandas.pydata.org/pandas-docs/stable/user_guide/indexing.html#returning-a-view-versus-a-copy\n",
      "  df['Birthdate'] = np.where(df['Birthdate'] > d1, df['Birthdate'] - datetime.timedelta(days=36525), df['Birthdate'])\n",
      "c:\\Users\\guido\\AppData\\Local\\Programs\\Python\\Python38\\lib\\site-packages\\pandas\\core\\frame.py:4906: SettingWithCopyWarning: \n",
      "A value is trying to be set on a copy of a slice from a DataFrame\n",
      "\n",
      "See the caveats in the documentation: https://pandas.pydata.org/pandas-docs/stable/user_guide/indexing.html#returning-a-view-versus-a-copy\n",
      "  return super().drop(\n"
     ]
    }
   ],
   "source": [
    "import datetime\n",
    "d1 = datetime.datetime(2000, 1, 1)\n",
    "df['Birthdate'] = np.where(df['Birthdate'] > d1, df['Birthdate'] - datetime.timedelta(days=36525), df['Birthdate'])\n",
    "\n",
    "df.drop(df[df['Age'] <= 0].index, inplace = True)\n",
    "print(df.shape)"
   ]
  },
  {
   "cell_type": "code",
   "execution_count": 12,
   "id": "19d18e5c",
   "metadata": {},
   "outputs": [
    {
     "data": {
      "image/png": "[encoded data removed]",
      "text/plain": [
       "<Figure size 432x288 with 1 Axes>"
      ]
     },
     "metadata": {
      "needs_background": "light"
     },
     "output_type": "display_data"
    },
    {
     "data": {
      "image/png": "[encoded data removed]",
      "text/plain": [
       "<Figure size 360x360 with 1 Axes>"
      ]
     },
     "metadata": {
      "needs_background": "light"
     },
     "output_type": "display_data"
    }
   ],
   "source": [
    "import seaborn as sns\n",
    "import matplotlib.pyplot as plt\n",
    "\n",
    "sns.boxplot(x = df['Purchases'])\n",
    "plt.show()\n",
    "sns.displot(df['Purchases'], bins = 15, kde=False)\n",
    "plt.show()"
   ]
  },
  {
   "cell_type": "code",
   "execution_count": 13,
   "id": "c51a3f33",
   "metadata": {},
   "outputs": [
    {
     "name": "stdout",
     "output_type": "stream",
     "text": [
      "(1468, 9)\n"
     ]
    },
    {
     "name": "stderr",
     "output_type": "stream",
     "text": [
      "c:\\Users\\guido\\AppData\\Local\\Programs\\Python\\Python38\\lib\\site-packages\\pandas\\core\\frame.py:4906: SettingWithCopyWarning: \n",
      "A value is trying to be set on a copy of a slice from a DataFrame\n",
      "\n",
      "See the caveats in the documentation: https://pandas.pydata.org/pandas-docs/stable/user_guide/indexing.html#returning-a-view-versus-a-copy\n",
      "  return super().drop(\n"
     ]
    }
   ],
   "source": [
    "df.drop(df[df['Purchases'] == 9999].index, inplace = True)\n",
    "print(df.shape)"
   ]
  },
  {
   "cell_type": "code",
   "execution_count": 14,
   "id": "50f490a7",
   "metadata": {},
   "outputs": [
    {
     "data": {
      "image/png": "[encoded data removed]",
      "text/plain": [
       "<Figure size 432x288 with 1 Axes>"
      ]
     },
     "metadata": {
      "needs_background": "light"
     },
     "output_type": "display_data"
    },
    {
     "data": {
      "image/png": "[encoded data removed]",
      "text/plain": [
       "<Figure size 360x360 with 1 Axes>"
      ]
     },
     "metadata": {
      "needs_background": "light"
     },
     "output_type": "display_data"
    }
   ],
   "source": [
    "sns.boxplot(x = df['Purchases'])\n",
    "plt.show()\n",
    "sns.displot(df['Purchases'], bins = 15, kde=False)\n",
    "plt.show()"
   ]
  },
  {
   "cell_type": "code",
   "execution_count": 15,
   "id": "f23a8866",
   "metadata": {},
   "outputs": [
    {
     "data": {
      "image/png": "[encoded data removed]",
      "text/plain": [
       "<Figure size 432x288 with 1 Axes>"
      ]
     },
     "metadata": {
      "needs_background": "light"
     },
     "output_type": "display_data"
    },
    {
     "data": {
      "image/png": "[encoded data removed]",
      "text/plain": [
       "<Figure size 360x360 with 1 Axes>"
      ]
     },
     "metadata": {
      "needs_background": "light"
     },
     "output_type": "display_data"
    }
   ],
   "source": [
    "sns.boxplot(x = df['Income'])\n",
    "plt.show()\n",
    "sns.displot(df['Income'], bins = 15, kde=False)\n",
    "plt.show()"
   ]
  }
 ],
 "metadata": {
  "kernelspec": {
   "display_name": "Python 3 (ipykernel)",
   "language": "python",
   "name": "python3"
  },
  "language_info": {
   "codemirror_mode": {
    "name": "ipython",
    "version": 3
   },
   "file_extension": ".py",
   "mimetype": "text/x-python",
   "name": "python",
   "nbconvert_exporter": "python",
   "pygments_lexer": "ipython3",
   "version": "3.8.5"
  }
 },
 "nbformat": 4,
 "nbformat_minor": 5
}
