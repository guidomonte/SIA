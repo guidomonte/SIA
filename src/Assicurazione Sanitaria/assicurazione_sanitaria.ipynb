{
 "cells": [
  {
   "cell_type": "code",
   "execution_count": 47,
   "metadata": {},
   "outputs": [],
   "source": [
    "import pandas as pd\n",
    "import numpy as np"
   ]
  },
  {
   "cell_type": "code",
   "execution_count": 48,
   "metadata": {},
   "outputs": [
    {
     "data": {
      "text/html": [
       "<div>\n",
       "<style scoped>\n",
       "    .dataframe tbody tr th:only-of-type {\n",
       "        vertical-align: middle;\n",
       "    }\n",
       "\n",
       "    .dataframe tbody tr th {\n",
       "        vertical-align: top;\n",
       "    }\n",
       "\n",
       "    .dataframe thead th {\n",
       "        text-align: right;\n",
       "    }\n",
       "</style>\n",
       "<table border=\"1\" class=\"dataframe\">\n",
       "  <thead>\n",
       "    <tr style=\"text-align: right;\">\n",
       "      <th></th>\n",
       "      <th>id</th>\n",
       "      <th>perc_premium_paid_by_cash_credit</th>\n",
       "      <th>age_in_days</th>\n",
       "      <th>Income</th>\n",
       "      <th>Count_3-6_months_late</th>\n",
       "      <th>Count_6-12_months_late</th>\n",
       "      <th>Count_more_than_12_months_late</th>\n",
       "      <th>application_underwriting_score</th>\n",
       "      <th>no_of_premiums_paid</th>\n",
       "      <th>sourcing_channel</th>\n",
       "      <th>residence_area_type</th>\n",
       "    </tr>\n",
       "  </thead>\n",
       "  <tbody>\n",
       "    <tr>\n",
       "      <th>0</th>\n",
       "      <td>649</td>\n",
       "      <td>0.001</td>\n",
       "      <td>27384</td>\n",
       "      <td>51150</td>\n",
       "      <td>0.0</td>\n",
       "      <td>0.0</td>\n",
       "      <td>0.0</td>\n",
       "      <td>99.89</td>\n",
       "      <td>7</td>\n",
       "      <td>A</td>\n",
       "      <td>Rural</td>\n",
       "    </tr>\n",
       "    <tr>\n",
       "      <th>1</th>\n",
       "      <td>81136</td>\n",
       "      <td>0.124</td>\n",
       "      <td>23735</td>\n",
       "      <td>285140</td>\n",
       "      <td>0.0</td>\n",
       "      <td>0.0</td>\n",
       "      <td>0.0</td>\n",
       "      <td>98.93</td>\n",
       "      <td>19</td>\n",
       "      <td>A</td>\n",
       "      <td>Urban</td>\n",
       "    </tr>\n",
       "    <tr>\n",
       "      <th>2</th>\n",
       "      <td>70762</td>\n",
       "      <td>1.000</td>\n",
       "      <td>17170</td>\n",
       "      <td>186030</td>\n",
       "      <td>0.0</td>\n",
       "      <td>0.0</td>\n",
       "      <td>0.0</td>\n",
       "      <td>NaN</td>\n",
       "      <td>2</td>\n",
       "      <td>B</td>\n",
       "      <td>Urban</td>\n",
       "    </tr>\n",
       "    <tr>\n",
       "      <th>3</th>\n",
       "      <td>53935</td>\n",
       "      <td>0.198</td>\n",
       "      <td>16068</td>\n",
       "      <td>123540</td>\n",
       "      <td>0.0</td>\n",
       "      <td>0.0</td>\n",
       "      <td>0.0</td>\n",
       "      <td>99.00</td>\n",
       "      <td>11</td>\n",
       "      <td>B</td>\n",
       "      <td>Rural</td>\n",
       "    </tr>\n",
       "    <tr>\n",
       "      <th>4</th>\n",
       "      <td>15476</td>\n",
       "      <td>0.041</td>\n",
       "      <td>10591</td>\n",
       "      <td>200020</td>\n",
       "      <td>1.0</td>\n",
       "      <td>0.0</td>\n",
       "      <td>0.0</td>\n",
       "      <td>99.17</td>\n",
       "      <td>14</td>\n",
       "      <td>A</td>\n",
       "      <td>Rural</td>\n",
       "    </tr>\n",
       "  </tbody>\n",
       "</table>\n",
       "</div>"
      ],
      "text/plain": [
       "      id  perc_premium_paid_by_cash_credit  age_in_days  Income  \\\n",
       "0    649                             0.001        27384   51150   \n",
       "1  81136                             0.124        23735  285140   \n",
       "2  70762                             1.000        17170  186030   \n",
       "3  53935                             0.198        16068  123540   \n",
       "4  15476                             0.041        10591  200020   \n",
       "\n",
       "   Count_3-6_months_late  Count_6-12_months_late  \\\n",
       "0                    0.0                     0.0   \n",
       "1                    0.0                     0.0   \n",
       "2                    0.0                     0.0   \n",
       "3                    0.0                     0.0   \n",
       "4                    1.0                     0.0   \n",
       "\n",
       "   Count_more_than_12_months_late  application_underwriting_score  \\\n",
       "0                             0.0                           99.89   \n",
       "1                             0.0                           98.93   \n",
       "2                             0.0                             NaN   \n",
       "3                             0.0                           99.00   \n",
       "4                             0.0                           99.17   \n",
       "\n",
       "   no_of_premiums_paid sourcing_channel residence_area_type  \n",
       "0                    7                A               Rural  \n",
       "1                   19                A               Urban  \n",
       "2                    2                B               Urban  \n",
       "3                   11                B               Rural  \n",
       "4                   14                A               Rural  "
      ]
     },
     "execution_count": 48,
     "metadata": {},
     "output_type": "execute_result"
    }
   ],
   "source": [
    "train = pd.read_csv('dataset csv\\\\test_QaJU1Mh.csv')\n",
    "train.head()"
   ]
  },
  {
   "cell_type": "code",
   "execution_count": 49,
   "metadata": {},
   "outputs": [
    {
     "data": {
      "text/plain": [
       "id                                    int64\n",
       "perc_premium_paid_by_cash_credit    float64\n",
       "age_in_days                           int64\n",
       "Income                                int64\n",
       "Count_3-6_months_late               float64\n",
       "Count_6-12_months_late              float64\n",
       "Count_more_than_12_months_late      float64\n",
       "application_underwriting_score      float64\n",
       "no_of_premiums_paid                   int64\n",
       "sourcing_channel                     object\n",
       "residence_area_type                  object\n",
       "dtype: object"
      ]
     },
     "execution_count": 49,
     "metadata": {},
     "output_type": "execute_result"
    }
   ],
   "source": [
    "train.dtypes"
   ]
  },
  {
   "cell_type": "code",
   "execution_count": 50,
   "metadata": {},
   "outputs": [
    {
     "data": {
      "text/plain": [
       "1416"
      ]
     },
     "execution_count": 50,
     "metadata": {},
     "output_type": "execute_result"
    }
   ],
   "source": [
    "train.isnull().sum(axis=1).sum()"
   ]
  },
  {
   "cell_type": "code",
   "execution_count": 51,
   "metadata": {},
   "outputs": [],
   "source": [
    "train = train.dropna()"
   ]
  },
  {
   "cell_type": "code",
   "execution_count": 52,
   "metadata": {},
   "outputs": [
    {
     "name": "stdout",
     "output_type": "stream",
     "text": [
      "id\n",
      "count     32895.000000\n",
      "mean      56736.851497\n",
      "std       32944.071851\n",
      "min           1.000000\n",
      "25%       28217.000000\n",
      "50%       56476.000000\n",
      "75%       85414.000000\n",
      "max      114077.000000\n",
      "Name: id, dtype: float64\n",
      "\n",
      "perc_premium_paid_by_cash_credit\n",
      "count    32895.000000\n",
      "mean         0.315435\n",
      "std          0.329106\n",
      "min          0.000000\n",
      "25%          0.039000\n",
      "50%          0.176000\n",
      "75%          0.537000\n",
      "max          1.000000\n",
      "Name: perc_premium_paid_by_cash_credit, dtype: float64\n",
      "\n",
      "age_in_days\n",
      "count    32895.000000\n",
      "mean     18778.398146\n",
      "std       5134.344697\n",
      "min       7671.000000\n",
      "25%      14973.000000\n",
      "50%      18622.000000\n",
      "75%      22279.000000\n",
      "max      35785.000000\n",
      "Name: age_in_days, dtype: float64\n",
      "\n",
      "Income\n",
      "count    3.289500e+04\n",
      "mean     2.028720e+05\n",
      "std      2.261669e+05\n",
      "min      2.403000e+04\n",
      "25%      1.081100e+05\n",
      "50%      1.659300e+05\n",
      "75%      2.501000e+05\n",
      "max      2.191455e+07\n",
      "Name: Income, dtype: float64\n",
      "\n",
      "Count_3-6_months_late\n",
      "count    32895.000000\n",
      "mean         0.245022\n",
      "std          0.694048\n",
      "min          0.000000\n",
      "25%          0.000000\n",
      "50%          0.000000\n",
      "75%          0.000000\n",
      "max         12.000000\n",
      "Name: Count_3-6_months_late, dtype: float64\n",
      "\n",
      "Count_6-12_months_late\n",
      "count    32895.000000\n",
      "mean         0.080772\n",
      "std          0.458014\n",
      "min          0.000000\n",
      "25%          0.000000\n",
      "50%          0.000000\n",
      "75%          0.000000\n",
      "max         10.000000\n",
      "Name: Count_6-12_months_late, dtype: float64\n",
      "\n",
      "Count_more_than_12_months_late\n",
      "count    32895.000000\n",
      "mean         0.059310\n",
      "std          0.310792\n",
      "min          0.000000\n",
      "25%          0.000000\n",
      "50%          0.000000\n",
      "75%          0.000000\n",
      "max          7.000000\n",
      "Name: Count_more_than_12_months_late, dtype: float64\n",
      "\n",
      "application_underwriting_score\n",
      "count    32895.000000\n",
      "mean        99.061754\n",
      "std          0.742932\n",
      "min         91.900000\n",
      "25%         98.800000\n",
      "50%         99.210000\n",
      "75%         99.530000\n",
      "max         99.890000\n",
      "Name: application_underwriting_score, dtype: float64\n",
      "\n",
      "no_of_premiums_paid\n",
      "count    32895.000000\n",
      "mean        11.090470\n",
      "std          5.153286\n",
      "min          2.000000\n",
      "25%          7.000000\n",
      "50%         10.000000\n",
      "75%         14.000000\n",
      "max         59.000000\n",
      "Name: no_of_premiums_paid, dtype: float64\n",
      "\n",
      "sourcing_channel\n",
      "count     32895\n",
      "unique        5\n",
      "top           A\n",
      "freq      17678\n",
      "Name: sourcing_channel, dtype: object\n",
      "\n",
      "residence_area_type\n",
      "count     32895\n",
      "unique        2\n",
      "top       Urban\n",
      "freq      19793\n",
      "Name: residence_area_type, dtype: object\n",
      "\n"
     ]
    }
   ],
   "source": [
    "for col in train.columns:\n",
    "    print(col)\n",
    "    print(train[col].describe())\n",
    "    print()"
   ]
  },
  {
   "cell_type": "code",
   "execution_count": 53,
   "metadata": {},
   "outputs": [
    {
     "data": {
      "image/png": "[encoded data removed]",
      "text/plain": [
       "<Figure size 432x288 with 1 Axes>"
      ]
     },
     "metadata": {
      "needs_background": "light"
     },
     "output_type": "display_data"
    }
   ],
   "source": [
    "import matplotlib.pyplot as plt\n",
    "plt.figure()\n",
    "train.boxplot(column=['Income'])\n",
    "plt.show()"
   ]
  },
  {
   "cell_type": "code",
   "execution_count": 54,
   "metadata": {},
   "outputs": [
    {
     "name": "stdout",
     "output_type": "stream",
     "text": [
      "(31505, 11)\n",
      "count     31505.000000\n",
      "mean     179087.973655\n",
      "std       94253.108940\n",
      "min       24030.000000\n",
      "25%      105140.000000\n",
      "50%      161930.000000\n",
      "75%      238910.000000\n",
      "max      451850.000000\n",
      "Name: Income, dtype: float64\n"
     ]
    }
   ],
   "source": [
    "train.drop(train[train['Income'] >= 452000].index, inplace=True)\n",
    "print(train.shape)\n",
    "print(train['Income'].describe())"
   ]
  },
  {
   "cell_type": "code",
   "execution_count": 55,
   "metadata": {},
   "outputs": [
    {
     "data": {
      "image/png": "[encoded data removed]",
      "text/plain": [
       "<Figure size 432x288 with 1 Axes>"
      ]
     },
     "metadata": {
      "needs_background": "light"
     },
     "output_type": "display_data"
    }
   ],
   "source": [
    "plt.figure()\n",
    "train.boxplot(column=['Income'])\n",
    "plt.show()"
   ]
  },
  {
   "cell_type": "code",
   "execution_count": 56,
   "metadata": {},
   "outputs": [],
   "source": [
    "from sklearn.preprocessing import LabelEncoder\n",
    "newtrain = dict()\n",
    "for key in train.keys():\n",
    "    if train[key].dtypes == 'object':\n",
    "        le = LabelEncoder()\n",
    "        le.fit(train[key])\n",
    "        newtrain[key] = le.transform(train[key])\n",
    "    else:\n",
    "        newtrain[key] = train[key]\n",
    "\n",
    "res = pd.DataFrame.from_dict(newtrain, orient='columns', dtype=None)"
   ]
  },
  {
   "cell_type": "code",
   "execution_count": 57,
   "metadata": {},
   "outputs": [],
   "source": [
    "from sklearn.model_selection import train_test_split\n",
    "\n",
    "\n",
    "X = res.iloc[:, :-1]\n",
    "y = res.iloc[:, -1:]\n",
    "\n",
    "X_train, X_test, y_train, y_test = train_test_split(X, y, test_size=0.3, shuffle=True)"
   ]
  },
  {
   "cell_type": "code",
   "execution_count": 58,
   "metadata": {},
   "outputs": [],
   "source": [
    "from collections import Counter\n",
    "from imblearn.over_sampling import SMOTE\n",
    "\n",
    "oversample = SMOTE()\n",
    "X_new_train, y_train = oversample.fit_resample(X_train, y_train)"
   ]
  },
  {
   "cell_type": "code",
   "execution_count": 59,
   "metadata": {},
   "outputs": [
    {
     "name": "stderr",
     "output_type": "stream",
     "text": [
      "c:\\Users\\guido\\AppData\\Local\\Programs\\Python\\Python38\\lib\\site-packages\\sklearn\\preprocessing\\_label.py:98: DataConversionWarning: A column-vector y was passed when a 1d array was expected. Please change the shape of y to (n_samples, ), for example using ravel().\n",
      "  y = column_or_1d(y, warn=True)\n",
      "c:\\Users\\guido\\AppData\\Local\\Programs\\Python\\Python38\\lib\\site-packages\\sklearn\\preprocessing\\_label.py:133: DataConversionWarning: A column-vector y was passed when a 1d array was expected. Please change the shape of y to (n_samples, ), for example using ravel().\n",
      "  y = column_or_1d(y, warn=True)\n"
     ]
    }
   ],
   "source": [
    "from sklearn.linear_model import LogisticRegression\n",
    "from sklearn.neighbors import KNeighborsClassifier\n",
    "from sklearn.ensemble import RandomForestClassifier\n",
    "from sklearn.naive_bayes import GaussianNB\n",
    "from sklearn.tree import DecisionTreeClassifier\n",
    "\n",
    "from sklearn.ensemble import VotingClassifier\n",
    "\n",
    "gnb = GaussianNB()\n",
    "logreg = LogisticRegression(solver=\"lbfgs\")\n",
    "kneig = KNeighborsClassifier(3)\n",
    "randfor = RandomForestClassifier(max_depth=5, n_estimators=10, max_features=1)\n",
    "dectree = DecisionTreeClassifier(max_depth=5)\n",
    "\n",
    "ensemble_classifier = VotingClassifier(\n",
    "    estimators=[('gnb', gnb), ('logreg', logreg), ('kneig', kneig), (\"randfor\", randfor), (\"dectree\", dectree)],\n",
    "    voting='hard'\n",
    ")\n",
    "\n",
    "# Fit the ensemble regressor\n",
    "ensemble_classifier.fit(X_new_train, y_train)\n",
    "\n",
    "# Predict with the ensemble regressor\n",
    "y_pred = ensemble_classifier.predict(X_test)\n"
   ]
  },
  {
   "cell_type": "code",
   "execution_count": 60,
   "metadata": {},
   "outputs": [],
   "source": [
    "from sklearn.metrics import accuracy_score, confusion_matrix, classification_report\n",
    "from sklearn import metrics\n",
    "\n",
    "def metrics_scores(clf):\n",
    "    print(accuracy_score(y_test, y_pred))\n",
    "    print(\"Accuracy: %0.2f\" % accuracy_score(y_test, y_pred))\n",
    "    pr, rc, fs, sup = metrics.precision_recall_fscore_support(y_test, y_pred, average='macro', zero_division=1)\n",
    "    print(clf, ': Accuracy score: ', round(accuracy_score(y_test, y_pred), 4), \"Precision\",\n",
    "                round(pr, 4), ' Recall ', round(rc, 4), ' FScore ', round(fs, 4))\n",
    "    cmatrix = confusion_matrix(y_test, y_pred)\n",
    "    print(cmatrix)\n",
    "    report = classification_report(y_pred, y_test, zero_division=1)\n",
    "    print(report)\n",
    "    print()"
   ]
  },
  {
   "cell_type": "code",
   "execution_count": 61,
   "metadata": {},
   "outputs": [
    {
     "name": "stdout",
     "output_type": "stream",
     "text": [
      "Classifier Name: gnb\n",
      "0.48317816335167163\n",
      "Accuracy: 0.48\n",
      "GaussianNB() : Accuracy score:  0.4832 Precision 0.4947  Recall  0.4945  FScore  0.4816\n",
      "[[2026 1679]\n",
      " [3206 2541]]\n",
      "              precision    recall  f1-score   support\n",
      "\n",
      "           0       0.55      0.39      0.45      5232\n",
      "           1       0.44      0.60      0.51      4220\n",
      "\n",
      "    accuracy                           0.48      9452\n",
      "   macro avg       0.49      0.49      0.48      9452\n",
      "weighted avg       0.50      0.48      0.48      9452\n",
      "\n",
      "\n",
      "---------------------------------\n",
      "Classifier Name: logreg\n",
      "0.48317816335167163\n",
      "Accuracy: 0.48\n",
      "LogisticRegression() : Accuracy score:  0.4832 Precision 0.4947  Recall  0.4945  FScore  0.4816\n",
      "[[2026 1679]\n",
      " [3206 2541]]\n",
      "              precision    recall  f1-score   support\n",
      "\n",
      "           0       0.55      0.39      0.45      5232\n",
      "           1       0.44      0.60      0.51      4220\n",
      "\n",
      "    accuracy                           0.48      9452\n",
      "   macro avg       0.49      0.49      0.48      9452\n",
      "weighted avg       0.50      0.48      0.48      9452\n",
      "\n",
      "\n",
      "---------------------------------\n",
      "Classifier Name: kneig\n",
      "0.48317816335167163\n",
      "Accuracy: 0.48\n",
      "KNeighborsClassifier(n_neighbors=3) : Accuracy score:  0.4832 Precision 0.4947  Recall  0.4945  FScore  0.4816\n",
      "[[2026 1679]\n",
      " [3206 2541]]\n",
      "              precision    recall  f1-score   support\n",
      "\n",
      "           0       0.55      0.39      0.45      5232\n",
      "           1       0.44      0.60      0.51      4220\n",
      "\n",
      "    accuracy                           0.48      9452\n",
      "   macro avg       0.49      0.49      0.48      9452\n",
      "weighted avg       0.50      0.48      0.48      9452\n",
      "\n",
      "\n",
      "---------------------------------\n",
      "Classifier Name: randfor\n",
      "0.48317816335167163\n",
      "Accuracy: 0.48\n",
      "RandomForestClassifier(max_depth=5, max_features=1, n_estimators=10) : Accuracy score:  0.4832 Precision 0.4947  Recall  0.4945  FScore  0.4816\n",
      "[[2026 1679]\n",
      " [3206 2541]]\n",
      "              precision    recall  f1-score   support\n",
      "\n",
      "           0       0.55      0.39      0.45      5232\n",
      "           1       0.44      0.60      0.51      4220\n",
      "\n",
      "    accuracy                           0.48      9452\n",
      "   macro avg       0.49      0.49      0.48      9452\n",
      "weighted avg       0.50      0.48      0.48      9452\n",
      "\n",
      "\n",
      "---------------------------------\n",
      "Classifier Name: dectree\n",
      "0.48317816335167163\n",
      "Accuracy: 0.48\n",
      "DecisionTreeClassifier(max_depth=5) : Accuracy score:  0.4832 Precision 0.4947  Recall  0.4945  FScore  0.4816\n",
      "[[2026 1679]\n",
      " [3206 2541]]\n",
      "              precision    recall  f1-score   support\n",
      "\n",
      "           0       0.55      0.39      0.45      5232\n",
      "           1       0.44      0.60      0.51      4220\n",
      "\n",
      "    accuracy                           0.48      9452\n",
      "   macro avg       0.49      0.49      0.48      9452\n",
      "weighted avg       0.50      0.48      0.48      9452\n",
      "\n",
      "\n",
      "---------------------------------\n"
     ]
    }
   ],
   "source": [
    "classifiers = ensemble_classifier.named_estimators_\n",
    "\n",
    "# Print the individual classifiers\n",
    "for name, classifier in classifiers.items():\n",
    "    print(f\"Classifier Name: {name}\")\n",
    "    metrics_scores(classifier)\n",
    "    print(\"---------------------------------\")"
   ]
  },
  {
   "cell_type": "code",
   "execution_count": 62,
   "metadata": {},
   "outputs": [
    {
     "name": "stdout",
     "output_type": "stream",
     "text": [
      "0.48317816335167163\n",
      "Accuracy: 0.48\n",
      "VotingClassifier(estimators=[('gnb', GaussianNB()),\n",
      "                             ('logreg', LogisticRegression()),\n",
      "                             ('kneig', KNeighborsClassifier(n_neighbors=3)),\n",
      "                             ('randfor',\n",
      "                              RandomForestClassifier(max_depth=5,\n",
      "                                                     max_features=1,\n",
      "                                                     n_estimators=10)),\n",
      "                             ('dectree', DecisionTreeClassifier(max_depth=5))]) : Accuracy score:  0.4832 Precision 0.4947  Recall  0.4945  FScore  0.4816\n",
      "[[2026 1679]\n",
      " [3206 2541]]\n",
      "              precision    recall  f1-score   support\n",
      "\n",
      "           0       0.55      0.39      0.45      5232\n",
      "           1       0.44      0.60      0.51      4220\n",
      "\n",
      "    accuracy                           0.48      9452\n",
      "   macro avg       0.49      0.49      0.48      9452\n",
      "weighted avg       0.50      0.48      0.48      9452\n",
      "\n",
      "\n"
     ]
    }
   ],
   "source": [
    "metrics_scores(ensemble_classifier)"
   ]
  },
  {
   "cell_type": "code",
   "execution_count": 67,
   "metadata": {},
   "outputs": [],
   "source": [
    "from sklearn.model_selection import KFold, cross_validate\n",
    "\n",
    "def k_folds(clf):\n",
    "    cv = KFold(n_splits=10, random_state=1, shuffle=True)\n",
    "    scoring = ['accuracy', 'precision', 'recall']\n",
    "    results = cross_validate(clf,X,y,scoring=scoring,cv=cv, n_jobs=-1)\n",
    "    print(\"Accuracy: {:.4f}\".format(results['test_accuracy'].mean()))\n",
    "    print(\"Recall: {:.4f}\".format(results['test_recall'].mean()))\n",
    "    print(\"Precision: {:.4f}\".format(results['test_precision'].mean()))"
   ]
  },
  {
   "cell_type": "code",
   "execution_count": 68,
   "metadata": {},
   "outputs": [
    {
     "name": "stdout",
     "output_type": "stream",
     "text": [
      "Classifier Name: gnb\n",
      "Accuracy: 0.6027\n",
      "Recall: 0.9997\n",
      "Precision: 0.6028\n",
      "---------------------------------\n",
      "Classifier Name: logreg\n",
      "Accuracy: 0.6029\n",
      "Recall: 1.0000\n",
      "Precision: 0.6029\n",
      "---------------------------------\n",
      "Classifier Name: kneig\n",
      "Accuracy: 0.5280\n",
      "Recall: 0.6546\n",
      "Precision: 0.5994\n",
      "---------------------------------\n",
      "Classifier Name: randfor\n",
      "Accuracy: 0.6028\n",
      "Recall: 0.9995\n",
      "Precision: 0.6029\n",
      "---------------------------------\n",
      "Classifier Name: dectree\n",
      "Accuracy: 0.5996\n",
      "Recall: 0.9884\n",
      "Precision: 0.6023\n",
      "---------------------------------\n"
     ]
    }
   ],
   "source": [
    "classifiers = ensemble_classifier.named_estimators_\n",
    "\n",
    "# Print the individual classifiers\n",
    "for name, classifier in classifiers.items():\n",
    "    print(f\"Classifier Name: {name}\")\n",
    "    k_folds(classifier)\n",
    "    print(\"---------------------------------\")"
   ]
  },
  {
   "cell_type": "code",
   "execution_count": 69,
   "metadata": {},
   "outputs": [
    {
     "name": "stdout",
     "output_type": "stream",
     "text": [
      "Accuracy: 0.6029\n",
      "Recall: 1.0000\n",
      "Precision: 0.6029\n"
     ]
    }
   ],
   "source": [
    "k_folds(ensemble_classifier)"
   ]
  }
 ],
 "metadata": {
  "kernelspec": {
   "display_name": "Python 3",
   "language": "python",
   "name": "python3"
  },
  "language_info": {
   "codemirror_mode": {
    "name": "ipython",
    "version": 3
   },
   "file_extension": ".py",
   "mimetype": "text/x-python",
   "name": "python",
   "nbconvert_exporter": "python",
   "pygments_lexer": "ipython3",
   "version": "3.8.5"
  },
  "orig_nbformat": 4
 },
 "nbformat": 4,
 "nbformat_minor": 2
}
