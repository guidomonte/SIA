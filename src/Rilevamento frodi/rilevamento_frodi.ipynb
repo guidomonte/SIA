{
 "cells": [
  {
   "attachments": {},
   "cell_type": "markdown",
   "metadata": {},
   "source": [
    "1. Analizzare i dati a vostra disposizione e correggere eventuali errori presenti nell'insieme di dati \n",
    "(dati mancanti, dati palesemente errati, etc...) \n",
    "2. Individuare quali sono gli attributi che sembrano maggiormente correlati alla variabile target \n",
    "3. Costruire almeno un paio di modelli previsivi, appartenenti a tipologie diverse (ad esempio alberi \n",
    "di classificazione e classificatori a regole) \n",
    "4. Studiare l'accuratezza dei modelli ottenuti "
   ]
  },
  {
   "cell_type": "code",
   "execution_count": 1,
   "metadata": {},
   "outputs": [],
   "source": [
    "import pandas as pd\n",
    "import numpy as np"
   ]
  },
  {
   "cell_type": "code",
   "execution_count": 2,
   "metadata": {},
   "outputs": [
    {
     "data": {
      "text/html": [
       "<div>\n",
       "<style scoped>\n",
       "    .dataframe tbody tr th:only-of-type {\n",
       "        vertical-align: middle;\n",
       "    }\n",
       "\n",
       "    .dataframe tbody tr th {\n",
       "        vertical-align: top;\n",
       "    }\n",
       "\n",
       "    .dataframe thead th {\n",
       "        text-align: right;\n",
       "    }\n",
       "</style>\n",
       "<table border=\"1\" class=\"dataframe\">\n",
       "  <thead>\n",
       "    <tr style=\"text-align: right;\">\n",
       "      <th></th>\n",
       "      <th>step</th>\n",
       "      <th>type</th>\n",
       "      <th>amount</th>\n",
       "      <th>nameOrig</th>\n",
       "      <th>oldbalanceOrg</th>\n",
       "      <th>newbalanceOrig</th>\n",
       "      <th>nameDest</th>\n",
       "      <th>oldbalanceDest</th>\n",
       "      <th>newbalanceDest</th>\n",
       "      <th>isFraud</th>\n",
       "      <th>isFlaggedFraud</th>\n",
       "    </tr>\n",
       "  </thead>\n",
       "  <tbody>\n",
       "    <tr>\n",
       "      <th>0</th>\n",
       "      <td>1</td>\n",
       "      <td>PAYMENT</td>\n",
       "      <td>9839.64</td>\n",
       "      <td>C1231006815</td>\n",
       "      <td>170136.0</td>\n",
       "      <td>160296.36</td>\n",
       "      <td>M1979787155</td>\n",
       "      <td>0.0</td>\n",
       "      <td>0.0</td>\n",
       "      <td>0</td>\n",
       "      <td>0</td>\n",
       "    </tr>\n",
       "    <tr>\n",
       "      <th>1</th>\n",
       "      <td>1</td>\n",
       "      <td>PAYMENT</td>\n",
       "      <td>1864.28</td>\n",
       "      <td>C1666544295</td>\n",
       "      <td>21249.0</td>\n",
       "      <td>19384.72</td>\n",
       "      <td>M2044282225</td>\n",
       "      <td>0.0</td>\n",
       "      <td>0.0</td>\n",
       "      <td>0</td>\n",
       "      <td>0</td>\n",
       "    </tr>\n",
       "    <tr>\n",
       "      <th>2</th>\n",
       "      <td>1</td>\n",
       "      <td>TRANSFER</td>\n",
       "      <td>181.00</td>\n",
       "      <td>C1305486145</td>\n",
       "      <td>181.0</td>\n",
       "      <td>0.00</td>\n",
       "      <td>C553264065</td>\n",
       "      <td>0.0</td>\n",
       "      <td>0.0</td>\n",
       "      <td>1</td>\n",
       "      <td>0</td>\n",
       "    </tr>\n",
       "    <tr>\n",
       "      <th>3</th>\n",
       "      <td>1</td>\n",
       "      <td>CASH_OUT</td>\n",
       "      <td>181.00</td>\n",
       "      <td>C840083671</td>\n",
       "      <td>181.0</td>\n",
       "      <td>0.00</td>\n",
       "      <td>C38997010</td>\n",
       "      <td>21182.0</td>\n",
       "      <td>0.0</td>\n",
       "      <td>1</td>\n",
       "      <td>0</td>\n",
       "    </tr>\n",
       "    <tr>\n",
       "      <th>4</th>\n",
       "      <td>1</td>\n",
       "      <td>PAYMENT</td>\n",
       "      <td>11668.14</td>\n",
       "      <td>C2048537720</td>\n",
       "      <td>41554.0</td>\n",
       "      <td>29885.86</td>\n",
       "      <td>M1230701703</td>\n",
       "      <td>0.0</td>\n",
       "      <td>0.0</td>\n",
       "      <td>0</td>\n",
       "      <td>0</td>\n",
       "    </tr>\n",
       "  </tbody>\n",
       "</table>\n",
       "</div>"
      ],
      "text/plain": [
       "   step      type    amount     nameOrig  oldbalanceOrg  newbalanceOrig  \\\n",
       "0     1   PAYMENT   9839.64  C1231006815       170136.0       160296.36   \n",
       "1     1   PAYMENT   1864.28  C1666544295        21249.0        19384.72   \n",
       "2     1  TRANSFER    181.00  C1305486145          181.0            0.00   \n",
       "3     1  CASH_OUT    181.00   C840083671          181.0            0.00   \n",
       "4     1   PAYMENT  11668.14  C2048537720        41554.0        29885.86   \n",
       "\n",
       "      nameDest  oldbalanceDest  newbalanceDest  isFraud  isFlaggedFraud  \n",
       "0  M1979787155             0.0             0.0        0               0  \n",
       "1  M2044282225             0.0             0.0        0               0  \n",
       "2   C553264065             0.0             0.0        1               0  \n",
       "3    C38997010         21182.0             0.0        1               0  \n",
       "4  M1230701703             0.0             0.0        0               0  "
      ]
     },
     "execution_count": 2,
     "metadata": {},
     "output_type": "execute_result"
    }
   ],
   "source": [
    "dataset = pd.read_csv('dataset csv\\PS_20174392719_1491204439457_log.csv')\n",
    "\n",
    "dataset.head()"
   ]
  },
  {
   "cell_type": "code",
   "execution_count": 3,
   "metadata": {},
   "outputs": [
    {
     "data": {
      "text/html": [
       "<div>\n",
       "<style scoped>\n",
       "    .dataframe tbody tr th:only-of-type {\n",
       "        vertical-align: middle;\n",
       "    }\n",
       "\n",
       "    .dataframe tbody tr th {\n",
       "        vertical-align: top;\n",
       "    }\n",
       "\n",
       "    .dataframe thead th {\n",
       "        text-align: right;\n",
       "    }\n",
       "</style>\n",
       "<table border=\"1\" class=\"dataframe\">\n",
       "  <thead>\n",
       "    <tr style=\"text-align: right;\">\n",
       "      <th></th>\n",
       "      <th>step</th>\n",
       "      <th>amount</th>\n",
       "      <th>oldbalanceOrg</th>\n",
       "      <th>newbalanceOrig</th>\n",
       "      <th>oldbalanceDest</th>\n",
       "      <th>newbalanceDest</th>\n",
       "      <th>isFraud</th>\n",
       "      <th>isFlaggedFraud</th>\n",
       "    </tr>\n",
       "  </thead>\n",
       "  <tbody>\n",
       "    <tr>\n",
       "      <th>count</th>\n",
       "      <td>6.362620e+06</td>\n",
       "      <td>6.362620e+06</td>\n",
       "      <td>6.362620e+06</td>\n",
       "      <td>6.362620e+06</td>\n",
       "      <td>6.362620e+06</td>\n",
       "      <td>6.362620e+06</td>\n",
       "      <td>6.362620e+06</td>\n",
       "      <td>6.362620e+06</td>\n",
       "    </tr>\n",
       "    <tr>\n",
       "      <th>mean</th>\n",
       "      <td>2.433972e+02</td>\n",
       "      <td>1.798619e+05</td>\n",
       "      <td>8.338831e+05</td>\n",
       "      <td>8.551137e+05</td>\n",
       "      <td>1.100702e+06</td>\n",
       "      <td>1.224996e+06</td>\n",
       "      <td>1.290820e-03</td>\n",
       "      <td>2.514687e-06</td>\n",
       "    </tr>\n",
       "    <tr>\n",
       "      <th>std</th>\n",
       "      <td>1.423320e+02</td>\n",
       "      <td>6.038582e+05</td>\n",
       "      <td>2.888243e+06</td>\n",
       "      <td>2.924049e+06</td>\n",
       "      <td>3.399180e+06</td>\n",
       "      <td>3.674129e+06</td>\n",
       "      <td>3.590480e-02</td>\n",
       "      <td>1.585775e-03</td>\n",
       "    </tr>\n",
       "    <tr>\n",
       "      <th>min</th>\n",
       "      <td>1.000000e+00</td>\n",
       "      <td>0.000000e+00</td>\n",
       "      <td>0.000000e+00</td>\n",
       "      <td>0.000000e+00</td>\n",
       "      <td>0.000000e+00</td>\n",
       "      <td>0.000000e+00</td>\n",
       "      <td>0.000000e+00</td>\n",
       "      <td>0.000000e+00</td>\n",
       "    </tr>\n",
       "    <tr>\n",
       "      <th>25%</th>\n",
       "      <td>1.560000e+02</td>\n",
       "      <td>1.338957e+04</td>\n",
       "      <td>0.000000e+00</td>\n",
       "      <td>0.000000e+00</td>\n",
       "      <td>0.000000e+00</td>\n",
       "      <td>0.000000e+00</td>\n",
       "      <td>0.000000e+00</td>\n",
       "      <td>0.000000e+00</td>\n",
       "    </tr>\n",
       "    <tr>\n",
       "      <th>50%</th>\n",
       "      <td>2.390000e+02</td>\n",
       "      <td>7.487194e+04</td>\n",
       "      <td>1.420800e+04</td>\n",
       "      <td>0.000000e+00</td>\n",
       "      <td>1.327057e+05</td>\n",
       "      <td>2.146614e+05</td>\n",
       "      <td>0.000000e+00</td>\n",
       "      <td>0.000000e+00</td>\n",
       "    </tr>\n",
       "    <tr>\n",
       "      <th>75%</th>\n",
       "      <td>3.350000e+02</td>\n",
       "      <td>2.087215e+05</td>\n",
       "      <td>1.073152e+05</td>\n",
       "      <td>1.442584e+05</td>\n",
       "      <td>9.430367e+05</td>\n",
       "      <td>1.111909e+06</td>\n",
       "      <td>0.000000e+00</td>\n",
       "      <td>0.000000e+00</td>\n",
       "    </tr>\n",
       "    <tr>\n",
       "      <th>max</th>\n",
       "      <td>7.430000e+02</td>\n",
       "      <td>9.244552e+07</td>\n",
       "      <td>5.958504e+07</td>\n",
       "      <td>4.958504e+07</td>\n",
       "      <td>3.560159e+08</td>\n",
       "      <td>3.561793e+08</td>\n",
       "      <td>1.000000e+00</td>\n",
       "      <td>1.000000e+00</td>\n",
       "    </tr>\n",
       "  </tbody>\n",
       "</table>\n",
       "</div>"
      ],
      "text/plain": [
       "               step        amount  oldbalanceOrg  newbalanceOrig  \\\n",
       "count  6.362620e+06  6.362620e+06   6.362620e+06    6.362620e+06   \n",
       "mean   2.433972e+02  1.798619e+05   8.338831e+05    8.551137e+05   \n",
       "std    1.423320e+02  6.038582e+05   2.888243e+06    2.924049e+06   \n",
       "min    1.000000e+00  0.000000e+00   0.000000e+00    0.000000e+00   \n",
       "25%    1.560000e+02  1.338957e+04   0.000000e+00    0.000000e+00   \n",
       "50%    2.390000e+02  7.487194e+04   1.420800e+04    0.000000e+00   \n",
       "75%    3.350000e+02  2.087215e+05   1.073152e+05    1.442584e+05   \n",
       "max    7.430000e+02  9.244552e+07   5.958504e+07    4.958504e+07   \n",
       "\n",
       "       oldbalanceDest  newbalanceDest       isFraud  isFlaggedFraud  \n",
       "count    6.362620e+06    6.362620e+06  6.362620e+06    6.362620e+06  \n",
       "mean     1.100702e+06    1.224996e+06  1.290820e-03    2.514687e-06  \n",
       "std      3.399180e+06    3.674129e+06  3.590480e-02    1.585775e-03  \n",
       "min      0.000000e+00    0.000000e+00  0.000000e+00    0.000000e+00  \n",
       "25%      0.000000e+00    0.000000e+00  0.000000e+00    0.000000e+00  \n",
       "50%      1.327057e+05    2.146614e+05  0.000000e+00    0.000000e+00  \n",
       "75%      9.430367e+05    1.111909e+06  0.000000e+00    0.000000e+00  \n",
       "max      3.560159e+08    3.561793e+08  1.000000e+00    1.000000e+00  "
      ]
     },
     "execution_count": 3,
     "metadata": {},
     "output_type": "execute_result"
    }
   ],
   "source": [
    "dataset.describe()"
   ]
  },
  {
   "cell_type": "code",
   "execution_count": 4,
   "metadata": {},
   "outputs": [
    {
     "data": {
      "text/plain": [
       "step                int64\n",
       "type               object\n",
       "amount            float64\n",
       "nameOrig           object\n",
       "oldbalanceOrg     float64\n",
       "newbalanceOrig    float64\n",
       "nameDest           object\n",
       "oldbalanceDest    float64\n",
       "newbalanceDest    float64\n",
       "isFraud             int64\n",
       "isFlaggedFraud      int64\n",
       "dtype: object"
      ]
     },
     "execution_count": 4,
     "metadata": {},
     "output_type": "execute_result"
    }
   ],
   "source": [
    "dataset.dtypes"
   ]
  },
  {
   "cell_type": "code",
   "execution_count": 5,
   "metadata": {},
   "outputs": [],
   "source": [
    "import matplotlib.pyplot as plt\n"
   ]
  },
  {
   "cell_type": "code",
   "execution_count": 6,
   "metadata": {},
   "outputs": [],
   "source": [
    "def plot_attributes(data):\n",
    "    plt.figure()\n",
    "    dataset.boxplot(data)\n",
    "    plt.show()"
   ]
  },
  {
   "cell_type": "code",
   "execution_count": 7,
   "metadata": {},
   "outputs": [
    {
     "data": {
      "image/png": "[encoded data removed]",
      "text/plain": [
       "<Figure size 432x288 with 1 Axes>"
      ]
     },
     "metadata": {
      "needs_background": "light"
     },
     "output_type": "display_data"
    },
    {
     "data": {
      "image/png": "[encoded data removed]",
      "text/plain": [
       "<Figure size 432x288 with 1 Axes>"
      ]
     },
     "metadata": {
      "needs_background": "light"
     },
     "output_type": "display_data"
    },
    {
     "data": {
      "image/png": "[encoded data removed]",
      "text/plain": [
       "<Figure size 432x288 with 1 Axes>"
      ]
     },
     "metadata": {
      "needs_background": "light"
     },
     "output_type": "display_data"
    },
    {
     "data": {
      "image/png": "[encoded data removed]",
      "text/plain": [
       "<Figure size 432x288 with 1 Axes>"
      ]
     },
     "metadata": {
      "needs_background": "light"
     },
     "output_type": "display_data"
    },
    {
     "data": {
      "image/png": "[encoded data removed]",
      "text/plain": [
       "<Figure size 432x288 with 1 Axes>"
      ]
     },
     "metadata": {
      "needs_background": "light"
     },
     "output_type": "display_data"
    }
   ],
   "source": [
    "for col in dataset.select_dtypes(include=['float64']):\n",
    "    plot_attributes(col)"
   ]
  },
  {
   "cell_type": "code",
   "execution_count": 8,
   "metadata": {},
   "outputs": [
    {
     "name": "stdout",
     "output_type": "stream",
     "text": [
      "amount\n",
      "count    6.362620e+06\n",
      "mean     1.798619e+05\n",
      "std      6.038582e+05\n",
      "min      0.000000e+00\n",
      "25%      1.338957e+04\n",
      "50%      7.487194e+04\n",
      "75%      2.087215e+05\n",
      "max      9.244552e+07\n",
      "Name: amount, dtype: float64\n",
      "\n",
      "oldbalanceOrg\n",
      "count    6.362620e+06\n",
      "mean     8.338831e+05\n",
      "std      2.888243e+06\n",
      "min      0.000000e+00\n",
      "25%      0.000000e+00\n",
      "50%      1.420800e+04\n",
      "75%      1.073152e+05\n",
      "max      5.958504e+07\n",
      "Name: oldbalanceOrg, dtype: float64\n",
      "\n",
      "newbalanceOrig\n",
      "count    6.362620e+06\n",
      "mean     8.551137e+05\n",
      "std      2.924049e+06\n",
      "min      0.000000e+00\n",
      "25%      0.000000e+00\n",
      "50%      0.000000e+00\n",
      "75%      1.442584e+05\n",
      "max      4.958504e+07\n",
      "Name: newbalanceOrig, dtype: float64\n",
      "\n",
      "oldbalanceDest\n",
      "count    6.362620e+06\n",
      "mean     1.100702e+06\n",
      "std      3.399180e+06\n",
      "min      0.000000e+00\n",
      "25%      0.000000e+00\n",
      "50%      1.327057e+05\n",
      "75%      9.430367e+05\n",
      "max      3.560159e+08\n",
      "Name: oldbalanceDest, dtype: float64\n",
      "\n",
      "newbalanceDest\n",
      "count    6.362620e+06\n",
      "mean     1.224996e+06\n",
      "std      3.674129e+06\n",
      "min      0.000000e+00\n",
      "25%      0.000000e+00\n",
      "50%      2.146614e+05\n",
      "75%      1.111909e+06\n",
      "max      3.561793e+08\n",
      "Name: newbalanceDest, dtype: float64\n",
      "\n"
     ]
    }
   ],
   "source": [
    "for col in dataset.select_dtypes(include=['float64']):\n",
    "    print(col)\n",
    "    print(dataset[col].describe())\n",
    "    print()"
   ]
  },
  {
   "cell_type": "code",
   "execution_count": 9,
   "metadata": {},
   "outputs": [
    {
     "name": "stdout",
     "output_type": "stream",
     "text": [
      "amount\n",
      "(6362613, 11)\n",
      "oldbalanceOrg\n",
      "(6362603, 11)\n",
      "newbalanceOrig\n",
      "(6362601, 11)\n",
      "oldbalanceDest\n",
      "(6362582, 11)\n",
      "newbalanceDest\n",
      "(6362576, 11)\n"
     ]
    }
   ],
   "source": [
    "dataset.drop(dataset[dataset['amount'] > 65000000].index, inplace=True)\n",
    "print('amount')\n",
    "print(dataset.shape)\n",
    "\n",
    "dataset.drop(dataset[dataset['oldbalanceOrg'] > 42000000].index, inplace=True)\n",
    "print('oldbalanceOrg')\n",
    "print(dataset.shape)\n",
    "\n",
    "dataset.drop(dataset[dataset['newbalanceOrig'] > 40000000].index, inplace=True)\n",
    "print('newbalanceOrig')\n",
    "print(dataset.shape)\n",
    "\n",
    "dataset.drop(dataset[dataset['oldbalanceDest'] > 300000000].index, inplace=True)\n",
    "print('oldbalanceDest')\n",
    "print(dataset.shape)\n",
    "\n",
    "dataset.drop(dataset[dataset['newbalanceDest'] > 300000000].index, inplace=True)\n",
    "print('newbalanceDest')\n",
    "print(dataset.shape)"
   ]
  },
  {
   "cell_type": "code",
   "execution_count": 10,
   "metadata": {},
   "outputs": [
    {
     "data": {
      "image/png": "[encoded data removed]",
      "text/plain": [
       "<Figure size 432x288 with 1 Axes>"
      ]
     },
     "metadata": {
      "needs_background": "light"
     },
     "output_type": "display_data"
    },
    {
     "data": {
      "image/png": "[encoded data removed]",
      "text/plain": [
       "<Figure size 432x288 with 1 Axes>"
      ]
     },
     "metadata": {
      "needs_background": "light"
     },
     "output_type": "display_data"
    },
    {
     "data": {
      "image/png": "[encoded data removed]",
      "text/plain": [
       "<Figure size 432x288 with 1 Axes>"
      ]
     },
     "metadata": {
      "needs_background": "light"
     },
     "output_type": "display_data"
    },
    {
     "data": {
      "image/png": "[encoded data removed]",
      "text/plain": [
       "<Figure size 432x288 with 1 Axes>"
      ]
     },
     "metadata": {
      "needs_background": "light"
     },
     "output_type": "display_data"
    },
    {
     "data": {
      "image/png": "[encoded data removed]",
      "text/plain": [
       "<Figure size 432x288 with 1 Axes>"
      ]
     },
     "metadata": {
      "needs_background": "light"
     },
     "output_type": "display_data"
    }
   ],
   "source": [
    "for col in dataset.select_dtypes(include=['float64']):\n",
    "    plot_attributes(col)"
   ]
  },
  {
   "cell_type": "code",
   "execution_count": 11,
   "metadata": {},
   "outputs": [
    {
     "data": {
      "text/html": [
       "<div>\n",
       "<style scoped>\n",
       "    .dataframe tbody tr th:only-of-type {\n",
       "        vertical-align: middle;\n",
       "    }\n",
       "\n",
       "    .dataframe tbody tr th {\n",
       "        vertical-align: top;\n",
       "    }\n",
       "\n",
       "    .dataframe thead th {\n",
       "        text-align: right;\n",
       "    }\n",
       "</style>\n",
       "<table border=\"1\" class=\"dataframe\">\n",
       "  <thead>\n",
       "    <tr style=\"text-align: right;\">\n",
       "      <th></th>\n",
       "      <th>step</th>\n",
       "      <th>type</th>\n",
       "      <th>amount</th>\n",
       "      <th>oldbalanceOrg</th>\n",
       "      <th>newbalanceOrig</th>\n",
       "      <th>oldbalanceDest</th>\n",
       "      <th>newbalanceDest</th>\n",
       "      <th>isFraud</th>\n",
       "    </tr>\n",
       "  </thead>\n",
       "  <tbody>\n",
       "    <tr>\n",
       "      <th>0</th>\n",
       "      <td>1</td>\n",
       "      <td>PAYMENT</td>\n",
       "      <td>9839.64</td>\n",
       "      <td>170136.0</td>\n",
       "      <td>160296.36</td>\n",
       "      <td>0.0</td>\n",
       "      <td>0.0</td>\n",
       "      <td>0</td>\n",
       "    </tr>\n",
       "    <tr>\n",
       "      <th>1</th>\n",
       "      <td>1</td>\n",
       "      <td>PAYMENT</td>\n",
       "      <td>1864.28</td>\n",
       "      <td>21249.0</td>\n",
       "      <td>19384.72</td>\n",
       "      <td>0.0</td>\n",
       "      <td>0.0</td>\n",
       "      <td>0</td>\n",
       "    </tr>\n",
       "    <tr>\n",
       "      <th>2</th>\n",
       "      <td>1</td>\n",
       "      <td>TRANSFER</td>\n",
       "      <td>181.00</td>\n",
       "      <td>181.0</td>\n",
       "      <td>0.00</td>\n",
       "      <td>0.0</td>\n",
       "      <td>0.0</td>\n",
       "      <td>1</td>\n",
       "    </tr>\n",
       "    <tr>\n",
       "      <th>3</th>\n",
       "      <td>1</td>\n",
       "      <td>CASH_OUT</td>\n",
       "      <td>181.00</td>\n",
       "      <td>181.0</td>\n",
       "      <td>0.00</td>\n",
       "      <td>21182.0</td>\n",
       "      <td>0.0</td>\n",
       "      <td>1</td>\n",
       "    </tr>\n",
       "    <tr>\n",
       "      <th>4</th>\n",
       "      <td>1</td>\n",
       "      <td>PAYMENT</td>\n",
       "      <td>11668.14</td>\n",
       "      <td>41554.0</td>\n",
       "      <td>29885.86</td>\n",
       "      <td>0.0</td>\n",
       "      <td>0.0</td>\n",
       "      <td>0</td>\n",
       "    </tr>\n",
       "  </tbody>\n",
       "</table>\n",
       "</div>"
      ],
      "text/plain": [
       "   step      type    amount  oldbalanceOrg  newbalanceOrig  oldbalanceDest  \\\n",
       "0     1   PAYMENT   9839.64       170136.0       160296.36             0.0   \n",
       "1     1   PAYMENT   1864.28        21249.0        19384.72             0.0   \n",
       "2     1  TRANSFER    181.00          181.0            0.00             0.0   \n",
       "3     1  CASH_OUT    181.00          181.0            0.00         21182.0   \n",
       "4     1   PAYMENT  11668.14        41554.0        29885.86             0.0   \n",
       "\n",
       "   newbalanceDest  isFraud  \n",
       "0             0.0        0  \n",
       "1             0.0        0  \n",
       "2             0.0        1  \n",
       "3             0.0        1  \n",
       "4             0.0        0  "
      ]
     },
     "execution_count": 11,
     "metadata": {},
     "output_type": "execute_result"
    }
   ],
   "source": [
    "dataset.drop(\"nameOrig\", axis = 1, inplace=True)\n",
    "dataset.drop(\"nameDest\", axis = 1, inplace=True)\n",
    "dataset.drop(\"isFlaggedFraud\", axis = 1, inplace=True)\n",
    "\n",
    "dataset.head()"
   ]
  },
  {
   "cell_type": "code",
   "execution_count": 12,
   "metadata": {},
   "outputs": [
    {
     "data": {
      "text/plain": [
       "step                int64\n",
       "type               object\n",
       "amount            float64\n",
       "oldbalanceOrg     float64\n",
       "newbalanceOrig    float64\n",
       "oldbalanceDest    float64\n",
       "newbalanceDest    float64\n",
       "isFraud             int64\n",
       "dtype: object"
      ]
     },
     "execution_count": 12,
     "metadata": {},
     "output_type": "execute_result"
    }
   ],
   "source": [
    "from sklearn.preprocessing import LabelEncoder\n",
    "\n",
    "# Handling categoric data\n",
    "newdata = dict()\n",
    "for key in dataset.keys():\n",
    "    if dataset[key].dtypes == 'object':\n",
    "        le = LabelEncoder()\n",
    "        le.fit(dataset[key])\n",
    "        newdata[key] = le.transform(dataset[key])\n",
    "    else:\n",
    "        newdata[key] = dataset[key]\n",
    "\n",
    "dataset.dtypes"
   ]
  },
  {
   "cell_type": "code",
   "execution_count": 13,
   "metadata": {},
   "outputs": [],
   "source": [
    "new_ds = pd.DataFrame.from_dict(newdata, orient='columns', dtype=None)"
   ]
  },
  {
   "cell_type": "code",
   "execution_count": 14,
   "metadata": {},
   "outputs": [
    {
     "data": {
      "image/png": "[encoded data removed]",
      "text/plain": [
       "<Figure size 432x288 with 2 Axes>"
      ]
     },
     "metadata": {
      "needs_background": "light"
     },
     "output_type": "display_data"
    }
   ],
   "source": [
    "import seaborn as sns\n",
    "\n",
    "# correlation matrix\n",
    "mc = new_ds.corr()\n",
    "sns.heatmap(mc, annot=True, vmax=1, square=True, fmt='.2f', cmap='GnBu', robust=True)\n",
    "plt.show()"
   ]
  },
  {
   "cell_type": "code",
   "execution_count": 15,
   "metadata": {},
   "outputs": [],
   "source": [
    "from sklearn.model_selection import train_test_split\n",
    "\n",
    "\n",
    "X = new_ds.iloc[:, :-1]\n",
    "y = new_ds.iloc[:, -1:]\n",
    "\n",
    "X_train, X_test, y_train, y_test = train_test_split(X, y, test_size=0.3, shuffle=True)"
   ]
  },
  {
   "cell_type": "code",
   "execution_count": 16,
   "metadata": {},
   "outputs": [],
   "source": [
    "from collections import Counter\n",
    "from imblearn.over_sampling import SMOTE\n",
    "\n",
    "oversample = SMOTE()\n",
    "X_new_train, y_train = oversample.fit_resample(X_train, y_train)"
   ]
  },
  {
   "cell_type": "code",
   "execution_count": 17,
   "metadata": {},
   "outputs": [
    {
     "name": "stderr",
     "output_type": "stream",
     "text": [
      "c:\\Users\\guido\\AppData\\Local\\Programs\\Python\\Python38\\lib\\site-packages\\sklearn\\preprocessing\\_label.py:98: DataConversionWarning: A column-vector y was passed when a 1d array was expected. Please change the shape of y to (n_samples, ), for example using ravel().\n",
      "  y = column_or_1d(y, warn=True)\n",
      "c:\\Users\\guido\\AppData\\Local\\Programs\\Python\\Python38\\lib\\site-packages\\sklearn\\preprocessing\\_label.py:133: DataConversionWarning: A column-vector y was passed when a 1d array was expected. Please change the shape of y to (n_samples, ), for example using ravel().\n",
      "  y = column_or_1d(y, warn=True)\n"
     ]
    }
   ],
   "source": [
    "from sklearn.linear_model import LogisticRegression\n",
    "from sklearn.neighbors import KNeighborsClassifier\n",
    "from sklearn.ensemble import RandomForestClassifier\n",
    "from sklearn.naive_bayes import GaussianNB\n",
    "from sklearn.tree import DecisionTreeClassifier\n",
    "\n",
    "from sklearn.ensemble import VotingClassifier\n",
    "\n",
    "gnb = GaussianNB()\n",
    "logreg = LogisticRegression(solver=\"lbfgs\")\n",
    "kneig = KNeighborsClassifier(3)\n",
    "randfor = RandomForestClassifier(max_depth=5, n_estimators=10, max_features=1)\n",
    "dectree = DecisionTreeClassifier(max_depth=5)\n",
    "\n",
    "ensemble_classifier = VotingClassifier(\n",
    "    estimators=[('gnb', gnb), ('logreg', logreg), ('kneig', kneig), (\"randfor\", randfor), (\"dectree\", dectree)],\n",
    "    voting='hard'\n",
    ")\n",
    "\n",
    "# Fit the ensemble regressor\n",
    "ensemble_classifier.fit(X_new_train, y_train)\n",
    "\n",
    "# Predict with the ensemble regressor\n",
    "y_pred = ensemble_classifier.predict(X_test)"
   ]
  },
  {
   "cell_type": "code",
   "execution_count": 18,
   "metadata": {},
   "outputs": [],
   "source": [
    "from sklearn.metrics import accuracy_score, confusion_matrix, classification_report\n",
    "from sklearn import metrics\n",
    "\n",
    "def metrics_scores(clf):\n",
    "    print(accuracy_score(y_test, y_pred))\n",
    "    print(\"Accuracy: %0.2f\" % accuracy_score(y_test, y_pred))\n",
    "    pr, rc, fs, sup = metrics.precision_recall_fscore_support(y_test, y_pred, average='macro', zero_division=1)\n",
    "    print(clf, ': Accuracy score: ', round(accuracy_score(y_test, y_pred), 4), \"Precision\",\n",
    "                round(pr, 4), ' Recall ', round(rc, 4), ' FScore ', round(fs, 4))\n",
    "    cmatrix = confusion_matrix(y_test, y_pred)\n",
    "    print(cmatrix)\n",
    "    report = classification_report(y_pred, y_test, zero_division=1)\n",
    "    print(report)\n",
    "    print()"
   ]
  },
  {
   "cell_type": "code",
   "execution_count": 19,
   "metadata": {},
   "outputs": [
    {
     "name": "stdout",
     "output_type": "stream",
     "text": [
      "Classifier Name: gnb\n",
      "0.9878702181977637\n",
      "Accuracy: 0.99\n",
      "GaussianNB() : Accuracy score:  0.9879 Precision 0.5456  Recall  0.9629  FScore  0.5801\n",
      "[[1883311   23000]\n",
      " [    153    2309]]\n",
      "              precision    recall  f1-score   support\n",
      "\n",
      "           0       0.99      1.00      0.99   1883464\n",
      "           1       0.94      0.09      0.17     25309\n",
      "\n",
      "    accuracy                           0.99   1908773\n",
      "   macro avg       0.96      0.55      0.58   1908773\n",
      "weighted avg       0.99      0.99      0.98   1908773\n",
      "\n",
      "\n",
      "---------------------------------\n",
      "Classifier Name: logreg\n",
      "0.9878702181977637\n",
      "Accuracy: 0.99\n",
      "LogisticRegression() : Accuracy score:  0.9879 Precision 0.5456  Recall  0.9629  FScore  0.5801\n",
      "[[1883311   23000]\n",
      " [    153    2309]]\n",
      "              precision    recall  f1-score   support\n",
      "\n",
      "           0       0.99      1.00      0.99   1883464\n",
      "           1       0.94      0.09      0.17     25309\n",
      "\n",
      "    accuracy                           0.99   1908773\n",
      "   macro avg       0.96      0.55      0.58   1908773\n",
      "weighted avg       0.99      0.99      0.98   1908773\n",
      "\n",
      "\n",
      "---------------------------------\n",
      "Classifier Name: kneig\n",
      "0.9878702181977637\n",
      "Accuracy: 0.99\n",
      "KNeighborsClassifier(n_neighbors=3) : Accuracy score:  0.9879 Precision 0.5456  Recall  0.9629  FScore  0.5801\n",
      "[[1883311   23000]\n",
      " [    153    2309]]\n",
      "              precision    recall  f1-score   support\n",
      "\n",
      "           0       0.99      1.00      0.99   1883464\n",
      "           1       0.94      0.09      0.17     25309\n",
      "\n",
      "    accuracy                           0.99   1908773\n",
      "   macro avg       0.96      0.55      0.58   1908773\n",
      "weighted avg       0.99      0.99      0.98   1908773\n",
      "\n",
      "\n",
      "---------------------------------\n",
      "Classifier Name: randfor\n",
      "0.9878702181977637\n",
      "Accuracy: 0.99\n",
      "RandomForestClassifier(max_depth=5, max_features=1, n_estimators=10) : Accuracy score:  0.9879 Precision 0.5456  Recall  0.9629  FScore  0.5801\n",
      "[[1883311   23000]\n",
      " [    153    2309]]\n",
      "              precision    recall  f1-score   support\n",
      "\n",
      "           0       0.99      1.00      0.99   1883464\n",
      "           1       0.94      0.09      0.17     25309\n",
      "\n",
      "    accuracy                           0.99   1908773\n",
      "   macro avg       0.96      0.55      0.58   1908773\n",
      "weighted avg       0.99      0.99      0.98   1908773\n",
      "\n",
      "\n",
      "---------------------------------\n",
      "Classifier Name: dectree\n",
      "0.9878702181977637\n",
      "Accuracy: 0.99\n",
      "DecisionTreeClassifier(max_depth=5) : Accuracy score:  0.9879 Precision 0.5456  Recall  0.9629  FScore  0.5801\n",
      "[[1883311   23000]\n",
      " [    153    2309]]\n",
      "              precision    recall  f1-score   support\n",
      "\n",
      "           0       0.99      1.00      0.99   1883464\n",
      "           1       0.94      0.09      0.17     25309\n",
      "\n",
      "    accuracy                           0.99   1908773\n",
      "   macro avg       0.96      0.55      0.58   1908773\n",
      "weighted avg       0.99      0.99      0.98   1908773\n",
      "\n",
      "\n",
      "---------------------------------\n"
     ]
    }
   ],
   "source": [
    "classifiers = ensemble_classifier.named_estimators_\n",
    "\n",
    "# Print the individual classifiers\n",
    "for name, classifier in classifiers.items():\n",
    "    print(f\"Classifier Name: {name}\")\n",
    "    metrics_scores(classifier)\n",
    "    print(\"---------------------------------\")"
   ]
  },
  {
   "cell_type": "code",
   "execution_count": 20,
   "metadata": {},
   "outputs": [
    {
     "name": "stdout",
     "output_type": "stream",
     "text": [
      "0.9878702181977637\n",
      "Accuracy: 0.99\n",
      "VotingClassifier(estimators=[('gnb', GaussianNB()),\n",
      "                             ('logreg', LogisticRegression()),\n",
      "                             ('kneig', KNeighborsClassifier(n_neighbors=3)),\n",
      "                             ('randfor',\n",
      "                              RandomForestClassifier(max_depth=5,\n",
      "                                                     max_features=1,\n",
      "                                                     n_estimators=10)),\n",
      "                             ('dectree', DecisionTreeClassifier(max_depth=5))]) : Accuracy score:  0.9879 Precision 0.5456  Recall  0.9629  FScore  0.5801\n",
      "[[1883311   23000]\n",
      " [    153    2309]]\n",
      "              precision    recall  f1-score   support\n",
      "\n",
      "           0       0.99      1.00      0.99   1883464\n",
      "           1       0.94      0.09      0.17     25309\n",
      "\n",
      "    accuracy                           0.99   1908773\n",
      "   macro avg       0.96      0.55      0.58   1908773\n",
      "weighted avg       0.99      0.99      0.98   1908773\n",
      "\n",
      "\n"
     ]
    }
   ],
   "source": [
    "metrics_scores(ensemble_classifier)"
   ]
  },
  {
   "cell_type": "code",
   "execution_count": 21,
   "metadata": {},
   "outputs": [],
   "source": [
    "from sklearn.model_selection import KFold, cross_validate\n",
    "\n",
    "def k_folds(clf):\n",
    "    cv = KFold(n_splits=10, random_state=1, shuffle=True)\n",
    "    scoring = ['accuracy', 'precision', 'recall']\n",
    "    results = cross_validate(clf,X,y,scoring=scoring,cv=cv, n_jobs=-1)\n",
    "    print(\"Accuracy: {:.4f}\".format(results['test_accuracy'].mean()))\n",
    "    print(\"Recall: {:.4f}\".format(results['test_recall'].mean()))\n",
    "    print(\"Precision: {:.4f}\".format(results['test_precision'].mean()))"
   ]
  },
  {
   "cell_type": "code",
   "execution_count": 22,
   "metadata": {},
   "outputs": [
    {
     "name": "stdout",
     "output_type": "stream",
     "text": [
      "Classifier Name: gnb\n",
      "Accuracy: 0.9935\n",
      "Recall: 0.1727\n",
      "Precision: 0.0401\n",
      "---------------------------------\n",
      "Classifier Name: logreg\n",
      "Accuracy: 0.9983\n",
      "Recall: 0.4488\n",
      "Precision: 0.3742\n",
      "---------------------------------\n",
      "Classifier Name: kneig\n",
      "Accuracy: 0.9994\n",
      "Recall: 0.7047\n",
      "Precision: 0.8399\n",
      "---------------------------------\n",
      "Classifier Name: randfor\n",
      "Accuracy: 0.9990\n",
      "Recall: 0.2483\n",
      "Precision: 0.9996\n",
      "---------------------------------\n",
      "Classifier Name: dectree\n",
      "Accuracy: 0.9994\n",
      "Recall: 0.6290\n",
      "Precision: 0.8974\n",
      "---------------------------------\n"
     ]
    }
   ],
   "source": [
    "classifiers = ensemble_classifier.named_estimators_\n",
    "\n",
    "# Print the individual classifiers\n",
    "for name, classifier in classifiers.items():\n",
    "    print(f\"Classifier Name: {name}\")\n",
    "    k_folds(classifier)\n",
    "    print(\"---------------------------------\")"
   ]
  },
  {
   "cell_type": "code",
   "execution_count": 23,
   "metadata": {},
   "outputs": [
    {
     "name": "stdout",
     "output_type": "stream",
     "text": [
      "Accuracy: 0.9993\n",
      "Recall: 0.4251\n",
      "Precision: 0.9974\n"
     ]
    }
   ],
   "source": [
    "k_folds(ensemble_classifier)"
   ]
  }
 ],
 "metadata": {
  "kernelspec": {
   "display_name": "Python 3",
   "language": "python",
   "name": "python3"
  },
  "language_info": {
   "codemirror_mode": {
    "name": "ipython",
    "version": 3
   },
   "file_extension": ".py",
   "mimetype": "text/x-python",
   "name": "python",
   "nbconvert_exporter": "python",
   "pygments_lexer": "ipython3",
   "version": "3.8.5"
  },
  "orig_nbformat": 4
 },
 "nbformat": 4,
 "nbformat_minor": 2
}
